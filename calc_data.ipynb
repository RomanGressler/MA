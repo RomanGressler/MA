{
 "cells": [
  {
   "cell_type": "code",
   "execution_count": 4,
   "id": "00666c04-c4f7-47b0-bc22-87da574c488e",
   "metadata": {},
   "outputs": [],
   "source": [
    "import pandas as pd\n",
    "from scipy.stats import mannwhitneyu\n",
    "import numpy as np\n",
    "import matplotlib.pyplot as plt\n",
    "from scipy.stats import uniform"
   ]
  },
  {
   "cell_type": "code",
   "execution_count": 5,
   "id": "0c71886e-27f4-410a-a4cb-1bad487291dc",
   "metadata": {},
   "outputs": [],
   "source": [
    "desktop = pd.read_csv('See Desktop - See Mobile.csv')\n",
    "mobile = pd.read_csv('See Mobile - See Desktop.csv')"
   ]
  },
  {
   "cell_type": "code",
   "execution_count": 6,
   "id": "11d248dc-62de-4413-8648-30864195e5f8",
   "metadata": {},
   "outputs": [
    {
     "name": "stdout",
     "output_type": "stream",
     "text": [
      "0                               Bachelor's Degree\n",
      "1                            High School (Abitur)\n",
      "2                               Bachelor's Degree\n",
      "3                               Bachelor's Degree\n",
      "4                            High School (Abitur)\n",
      "5    Some High School (Hauptschule/Realschule...)\n",
      "6                                 Master's Degree\n",
      "7                            High School (Abitur)\n",
      "8                               Bachelor's Degree\n",
      "Name: Degree, dtype: object\n",
      "0    Some High School (Hauptschule/Realschule...)\n",
      "1                                 Master's Degree\n",
      "2                               Bachelor's Degree\n",
      "3                                 Master's Degree\n",
      "4                               Bachelor's Degree\n",
      "5                               Bachelor's Degree\n",
      "6                               Bachelor's Degree\n",
      "7                               Bachelor's Degree\n",
      "8    Some High School (Hauptschule/Realschule...)\n",
      "Name: Degree, dtype: object\n"
     ]
    },
    {
     "data": {
      "text/plain": [
       "MannwhitneyuResult(statistic=33.0, pvalue=0.506004590937926)"
      ]
     },
     "execution_count": 6,
     "metadata": {},
     "output_type": "execute_result"
    }
   ],
   "source": [
    "# Degree\n",
    "print(desktop[\"Degree\"])\n",
    "print(mobile[\"Degree\"])\n",
    "# Translate degrees into numbers for U-test \n",
    "# Some High School (Hauptschule/Realschule...) == 1\n",
    "# High School (Abitur) == 2\n",
    "# Bachelor's Degree == 3\n",
    "# Master's Degree == 4\n",
    "degreesDesktop = [3, 2, 3, 3, 2, 1, 4, 2, 3]\n",
    "degreesMobile = [1, 4, 3, 4, 3, 3, 3, 3, 1]\n",
    "mannwhitneyu(degreesDesktop, degreesMobile)"
   ]
  },
  {
   "cell_type": "code",
   "execution_count": 7,
   "id": "6195346e-4526-4c23-b8ff-2f722e37abf4",
   "metadata": {},
   "outputs": [
    {
     "name": "stdout",
     "output_type": "stream",
     "text": [
      "ASQ11 MannwhitneyuResult(statistic=29.0, pvalue=0.3005453490799965)\n",
      "ASQ21 MannwhitneyuResult(statistic=43.5, pvalue=0.8141993712926219)\n",
      "ASQ31 MannwhitneyuResult(statistic=15.5, pvalue=0.027471958616590037)\n",
      "ASQ41 MannwhitneyuResult(statistic=22.0, pvalue=0.09439879299882575)\n",
      "ASQ12 MannwhitneyuResult(statistic=30.0, pvalue=0.35658239335387365)\n",
      "ASQ22 MannwhitneyuResult(statistic=31.5, pvalue=0.4170932470422536)\n",
      "ASQ32 MannwhitneyuResult(statistic=23.5, pvalue=0.13906291753393626)\n",
      "ASQ42 MannwhitneyuResult(statistic=27.5, pvalue=0.25076145203601363)\n",
      "ASQ13 MannwhitneyuResult(statistic=38.5, pvalue=0.8836659809578449)\n",
      "ASQ23 MannwhitneyuResult(statistic=35.5, pvalue=0.6602815071722536)\n",
      "ASQ33 MannwhitneyuResult(statistic=24.0, pvalue=0.14464283165032438)\n",
      "ASQ43 MannwhitneyuResult(statistic=22.0, pvalue=0.0930803679465405)\n"
     ]
    }
   ],
   "source": [
    "# ASQ U-TEST SAME DEVICE\n",
    "for x in range(3):\n",
    "    result = mannwhitneyu(desktop['ASQ1' + str(1+x)], mobile['ASQ3' + str(1+x)])\n",
    "    print('ASQ1' + str(x+1), result)\n",
    "    result = mannwhitneyu(desktop['ASQ2' + str(1+x)], mobile['ASQ4' + str(1+x)])\n",
    "    print('ASQ2' + str(x+1), result)\n",
    "    result = mannwhitneyu(desktop['ASQ3' + str(1+x)], mobile['ASQ1' + str(1+x)])\n",
    "    print('ASQ3' + str(x+1), result)\n",
    "    result = mannwhitneyu(desktop['ASQ4' + str(1+x)], mobile['ASQ2' + str(1+x)])\n",
    "    print('ASQ4' + str(x+1), result)"
   ]
  },
  {
   "cell_type": "code",
   "execution_count": 8,
   "id": "9694c2a3-cd4b-4424-8352-9e6e4021be81",
   "metadata": {},
   "outputs": [
    {
     "name": "stdout",
     "output_type": "stream",
     "text": [
      "ASQ11 MannwhitneyuResult(statistic=47.0, pvalue=0.574961711993179)\n",
      "ASQ21 MannwhitneyuResult(statistic=37.5, pvalue=0.8070911851830875)\n",
      "ASQ31 MannwhitneyuResult(statistic=7.0, pvalue=0.0029352087511973985)\n",
      "ASQ41 MannwhitneyuResult(statistic=24.5, pvalue=0.15784514179830011)\n",
      "ASQ12 MannwhitneyuResult(statistic=44.0, pvalue=0.7824685152910666)\n",
      "ASQ22 MannwhitneyuResult(statistic=37.0, pvalue=0.7779324116598495)\n",
      "ASQ32 MannwhitneyuResult(statistic=13.5, pvalue=0.017389822427381425)\n",
      "ASQ42 MannwhitneyuResult(statistic=23.0, pvalue=0.11437947618667621)\n",
      "ASQ13 MannwhitneyuResult(statistic=39.5, pvalue=0.9612208051396489)\n",
      "ASQ23 MannwhitneyuResult(statistic=36.0, pvalue=0.696209688930925)\n",
      "ASQ33 MannwhitneyuResult(statistic=20.5, pvalue=0.07350788385259734)\n",
      "ASQ43 MannwhitneyuResult(statistic=20.5, pvalue=0.06982261911979498)\n"
     ]
    }
   ],
   "source": [
    "# ASQ U-TEST DIFFERENT DEVICE\n",
    "for x in range(3):\n",
    "    result = mannwhitneyu(desktop['ASQ1' + str(1+x)], mobile['ASQ1' + str(1+x)])\n",
    "    print('ASQ1' + str(x+1), result)\n",
    "    result = mannwhitneyu(desktop['ASQ2' + str(1+x)], mobile['ASQ2' + str(1+x)])\n",
    "    print('ASQ2' + str(x+1), result)\n",
    "    result = mannwhitneyu(desktop['ASQ3' + str(1+x)], mobile['ASQ3' + str(1+x)])\n",
    "    print('ASQ3' + str(x+1), result)\n",
    "    result = mannwhitneyu(desktop['ASQ4' + str(1+x)], mobile['ASQ4' + str(1+x)])\n",
    "    print('ASQ4' + str(x+1), result)"
   ]
  },
  {
   "cell_type": "code",
   "execution_count": 9,
   "id": "4b41e6e6-c92c-49b4-9c6b-38b4313f6605",
   "metadata": {},
   "outputs": [],
   "source": [
    "def calcSUS(df):\n",
    "    dfSUS1 = df.drop(columns=[\"Timestamp\",\"Age\",\"Gender\",\"Degree\",\"SEE\",\"Games\",\"Device\",\"Version\",\"Developer\",\"Time1\",\"ASQ11\",\"ASQ12\",\"ASQ13\",\"Time2\",\"ASQ21\",\"ASQ22\",\"ASQ23\",\"Improvements1\",\"Time3\",\"ASQ31\",\"ASQ32\",\"ASQ33\",\"Time4\",\"ASQ41\",\"ASQ42\",\"ASQ43\",\"SUS21\",\"SUS22\",\"SUS23\",\"SUS24\",\"SUS25\",\"SUS26\",\"SUS27\",\"SUS28\",\"SUS29\",\"SUS210\",\"Improvements2\"])\n",
    "    dfSUS2 = df.drop(columns=[\"Timestamp\",\"Age\",\"Gender\",\"Degree\",\"SEE\",\"Games\",\"Device\",\"Version\",\"Developer\",\"Time1\",\"ASQ11\",\"ASQ12\",\"ASQ13\",\"Time2\",\"ASQ21\",\"ASQ22\",\"ASQ23\",\"SUS11\",\"SUS12\",\"SUS13\",\"SUS14\",\"SUS15\",\"SUS16\",\"SUS17\",\"SUS18\",\"SUS19\",\"SUS110\",\"Improvements1\",\"Time3\",\"ASQ31\",\"ASQ32\",\"ASQ33\",\"Time4\",\"ASQ41\",\"ASQ42\",\"ASQ43\",\"Improvements2\"])\n",
    "    scoresD1 = []\n",
    "    scoresD2 = []\n",
    "    dfResult = pd.DataFrame()\n",
    "    for cnt in range(9):\n",
    "        score = 0\n",
    "        sum = 0\n",
    "        index = 1\n",
    "        for value in dfSUS1.loc[cnt]:\n",
    "            if (index) % 2 == 0:\n",
    "                sum -= value\n",
    "                index += 1\n",
    "            else:\n",
    "                sum += value\n",
    "                index += 1\n",
    "        score = 2.5 *(20 + sum)\n",
    "        scoresD1.append(score)\n",
    "    for cnt in range(9):\n",
    "        score = 0\n",
    "        sum = 0\n",
    "        index = 1\n",
    "        for value in dfSUS2.loc[cnt]:\n",
    "            if (index) % 2 == 0:\n",
    "                sum -= value\n",
    "                index += 1\n",
    "            else:\n",
    "                sum += value\n",
    "                index += 1\n",
    "        score = 2.5 *(20 + sum)\n",
    "        scoresD2.append(score)\n",
    "    return scoresD1, scoresD2\n",
    "    \n",
    "    "
   ]
  },
  {
   "cell_type": "code",
   "execution_count": 10,
   "id": "ebdefe88-80d9-4c09-917a-600ce20a7059",
   "metadata": {},
   "outputs": [
    {
     "name": "stdout",
     "output_type": "stream",
     "text": [
      "SUS Desktop:\n",
      "[60.0, 57.5, 80.0, 60.0, 77.5, 70.0, 85.0, 52.5, 80.0, 87.5, 80.0, 50.0, 62.5, 85.0, 50.0, 92.5, 100.0, 85.0]\n",
      "Desktop average:\n",
      "73.05555555555556\n",
      "SUS Mobile:\n",
      "[37.5, 52.5, 82.5, 52.5, 52.5, 30.0, 87.5, 35.0, 42.5, 85.0, 47.5, 47.5, 55.0, 90.0, 50.0, 87.5, 97.5, 57.5]\n",
      "Mobile average:\n",
      "60.55555555555556\n",
      "MannwhitneyuResult(statistic=219.5, pvalue=0.07068814365843198)\n"
     ]
    }
   ],
   "source": [
    "susDesktop = calcSUS(desktop)[0] + calcSUS(mobile)[1]\n",
    "susMobile =  calcSUS(desktop)[1] + calcSUS(mobile)[0]\n",
    "print(\"SUS Desktop:\")\n",
    "print(susDesktop)\n",
    "print(\"Desktop average:\")\n",
    "print(np.average(susDesktop))\n",
    "print(\"SUS Mobile:\")\n",
    "print(susMobile)\n",
    "print(\"Mobile average:\")\n",
    "print(np.average(susMobile))\n",
    "print(mannwhitneyu(susDesktop, susMobile))"
   ]
  },
  {
   "cell_type": "code",
   "execution_count": 11,
   "id": "64bd655c-4c15-4c55-a86e-27641926e505",
   "metadata": {},
   "outputs": [
    {
     "name": "stdout",
     "output_type": "stream",
     "text": [
      "Desktop median: 78.75\n",
      "Mobile median: 52.5\n"
     ]
    },
    {
     "data": {
      "image/png": "[encoded data removed]",
      "text/plain": [
       "<Figure size 432x288 with 1 Axes>"
      ]
     },
     "metadata": {
      "needs_background": "light"
     },
     "output_type": "display_data"
    }
   ],
   "source": [
    "df = pd.DataFrame({\"Desktop\": susDesktop, \"Mobile\": susMobile})\n",
    "print(\"Desktop median:\", df[\"Desktop\"].median())\n",
    "print(\"Mobile median:\", df[\"Mobile\"].median())\n",
    "boxplot = df.boxplot(column=['Desktop', 'Mobile'])  "
   ]
  },
  {
   "cell_type": "code",
   "execution_count": 12,
   "id": "7c85c9d0-0072-4077-a7bc-212bcad32de7",
   "metadata": {},
   "outputs": [
    {
     "data": {
      "text/plain": [
       "<AxesSubplot:ylabel='Density'>"
      ]
     },
     "execution_count": 12,
     "metadata": {},
     "output_type": "execute_result"
    },
    {
     "data": {
      "image/png": "[encoded data removed]",
      "text/plain": [
       "<Figure size 432x288 with 1 Axes>"
      ]
     },
     "metadata": {
      "needs_background": "light"
     },
     "output_type": "display_data"
    }
   ],
   "source": [
    "df.plot.kde()"
   ]
  },
  {
   "cell_type": "code",
   "execution_count": null,
   "id": "f5f59bb6-39ed-44cf-85bc-47d4890dc929",
   "metadata": {},
   "outputs": [],
   "source": []
  }
 ],
 "metadata": {
  "interpreter": {
   "hash": "19fa838742d2c6b0ee93720451b7cc7b1eb2c1ea5970fcd40821869943c59421"
  },
  "kernelspec": {
   "display_name": "Python 3.9.12 ('base')",
   "language": "python",
   "name": "python3"
  },
  "language_info": {
   "codemirror_mode": {
    "name": "ipython",
    "version": 3
   },
   "file_extension": ".py",
   "mimetype": "text/x-python",
   "name": "python",
   "nbconvert_exporter": "python",
   "pygments_lexer": "ipython3",
   "version": "3.9.12"
  }
 },
 "nbformat": 4,
 "nbformat_minor": 5
}
